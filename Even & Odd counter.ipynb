{
 "cells": [
  {
   "cell_type": "code",
   "execution_count": 23,
   "id": "1d4909b2",
   "metadata": {},
   "outputs": [],
   "source": [
    "input_numbers = [10, 21, 4, 45, 66, 93, 1,15,55]"
   ]
  },
  {
   "cell_type": "code",
   "execution_count": 27,
   "id": "f96da7f0",
   "metadata": {},
   "outputs": [
    {
     "name": "stdout",
     "output_type": "stream",
     "text": [
      "6\n",
      "3\n"
     ]
    }
   ],
   "source": [
    "even_numbers,odd_numbers = 0,0\n",
    "for no in input_numbers:\n",
    " \n",
    "    if no % 2 == 0:\n",
    "        even_numbers += 1\n",
    " \n",
    "    else:\n",
    "        odd_numbers += 1\n",
    "\n",
    "print(odd_numbers)\n",
    "print(even_numbers)"
   ]
  }
 ],
 "metadata": {
  "kernelspec": {
   "display_name": "Python 3 (ipykernel)",
   "language": "python",
   "name": "python3"
  },
  "language_info": {
   "codemirror_mode": {
    "name": "ipython",
    "version": 3
   },
   "file_extension": ".py",
   "mimetype": "text/x-python",
   "name": "python",
   "nbconvert_exporter": "python",
   "pygments_lexer": "ipython3",
   "version": "3.9.7"
  }
 },
 "nbformat": 4,
 "nbformat_minor": 5
}
